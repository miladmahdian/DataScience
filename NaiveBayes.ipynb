{
 "cells": [
  {
   "cell_type": "markdown",
   "metadata": {},
   "source": [
    "# Naive Bayes (the easy way)"
   ]
  },
  {
   "cell_type": "markdown",
   "metadata": {},
   "source": [
    "We'll cheat by using sklearn.naive_bayes to train a spam classifier! Most of the code is just loading our training data into a pandas DataFrame that we can play with:"
   ]
  },
  {
   "cell_type": "code",
   "execution_count": 1,
   "metadata": {
    "collapsed": false
   },
   "outputs": [],
   "source": [
    "import os\n",
    "import io\n",
    "import numpy\n",
    "from pandas import DataFrame\n",
    "from sklearn.feature_extraction.text import CountVectorizer\n",
    "from sklearn.naive_bayes import MultinomialNB\n",
    "\n",
    "def readFiles(path):\n",
    "    for root, dirnames, filenames in os.walk(path):\n",
    "        for filename in filenames:\n",
    "            path = os.path.join(root, filename)\n",
    "\n",
    "            inBody = False\n",
    "            lines = []\n",
    "            f = io.open(path, 'r', encoding='latin1')\n",
    "            for line in f:\n",
    "                if inBody:\n",
    "                    lines.append(line)\n",
    "                elif line == '\\n':\n",
    "                    inBody = True\n",
    "            f.close()\n",
    "            message = '\\n'.join(lines) # create a string by joining the lines' elements with \\n \n",
    "            yield path, message # yield is like return but it returns generators: generators are iterables which you \n",
    "            # you can only iterate over once since their value is generated on the fly and removed after the corresponding iteration\n",
    "\n",
    "\n",
    "def dataFrameFromDirectory(path, classification):\n",
    "    rows = []\n",
    "    index = []\n",
    "    for filename, message in readFiles(path):\n",
    "        rows.append({'message': message, 'class': classification})\n",
    "        index.append(filename)\n",
    "\n",
    "    return DataFrame(rows, index=index) #makes the pathfile the index of the data points\n",
    "\n",
    "data = DataFrame({'message': [], 'class': []})#creates an empty datafrom from a dictionary\n",
    "\n",
    "data = data.append(dataFrameFromDirectory('/Users/miladmahdian/DataScience/emails/spam', 'spam'))\n",
    "data = data.append(dataFrameFromDirectory('/Users/miladmahdian/DataScience/emails/ham', 'ham'))\n"
   ]
  },
  {
   "cell_type": "markdown",
   "metadata": {},
   "source": [
    "Let's have a look at that DataFrame:"
   ]
  },
  {
   "cell_type": "code",
   "execution_count": 2,
   "metadata": {
    "collapsed": false
   },
   "outputs": [
    {
     "data": {
      "text/html": [
       "<div>\n",
       "<table border=\"1\" class=\"dataframe\">\n",
       "  <thead>\n",
       "    <tr style=\"text-align: right;\">\n",
       "      <th></th>\n",
       "      <th>class</th>\n",
       "      <th>message</th>\n",
       "    </tr>\n",
       "  </thead>\n",
       "  <tbody>\n",
       "    <tr>\n",
       "      <th>/Users/miladmahdian/DataScience/emails/spam/00001.7848dde101aa985090474a91ec93fcf0</th>\n",
       "      <td>spam</td>\n",
       "      <td>&lt;!DOCTYPE HTML PUBLIC \"-//W3C//DTD HTML 4.0 Tr...</td>\n",
       "    </tr>\n",
       "    <tr>\n",
       "      <th>/Users/miladmahdian/DataScience/emails/spam/00002.d94f1b97e48ed3b553b3508d116e6a09</th>\n",
       "      <td>spam</td>\n",
       "      <td>1) Fight The Risk of Cancer!\\n\\nhttp://www.adc...</td>\n",
       "    </tr>\n",
       "    <tr>\n",
       "      <th>/Users/miladmahdian/DataScience/emails/spam/00003.2ee33bc6eacdb11f38d052c44819ba6c</th>\n",
       "      <td>spam</td>\n",
       "      <td>1) Fight The Risk of Cancer!\\n\\nhttp://www.adc...</td>\n",
       "    </tr>\n",
       "    <tr>\n",
       "      <th>/Users/miladmahdian/DataScience/emails/spam/00004.eac8de8d759b7e74154f142194282724</th>\n",
       "      <td>spam</td>\n",
       "      <td>##############################################...</td>\n",
       "    </tr>\n",
       "    <tr>\n",
       "      <th>/Users/miladmahdian/DataScience/emails/spam/00005.57696a39d7d84318ce497886896bf90d</th>\n",
       "      <td>spam</td>\n",
       "      <td>I thought you might like these:\\n\\n1) Slim Dow...</td>\n",
       "    </tr>\n",
       "  </tbody>\n",
       "</table>\n",
       "</div>"
      ],
      "text/plain": [
       "                                                   class  \\\n",
       "/Users/miladmahdian/DataScience/emails/spam/000...  spam   \n",
       "/Users/miladmahdian/DataScience/emails/spam/000...  spam   \n",
       "/Users/miladmahdian/DataScience/emails/spam/000...  spam   \n",
       "/Users/miladmahdian/DataScience/emails/spam/000...  spam   \n",
       "/Users/miladmahdian/DataScience/emails/spam/000...  spam   \n",
       "\n",
       "                                                                                              message  \n",
       "/Users/miladmahdian/DataScience/emails/spam/000...  <!DOCTYPE HTML PUBLIC \"-//W3C//DTD HTML 4.0 Tr...  \n",
       "/Users/miladmahdian/DataScience/emails/spam/000...  1) Fight The Risk of Cancer!\\n\\nhttp://www.adc...  \n",
       "/Users/miladmahdian/DataScience/emails/spam/000...  1) Fight The Risk of Cancer!\\n\\nhttp://www.adc...  \n",
       "/Users/miladmahdian/DataScience/emails/spam/000...  ##############################################...  \n",
       "/Users/miladmahdian/DataScience/emails/spam/000...  I thought you might like these:\\n\\n1) Slim Dow...  "
      ]
     },
     "execution_count": 2,
     "metadata": {},
     "output_type": "execute_result"
    }
   ],
   "source": [
    "data.head()"
   ]
  },
  {
   "cell_type": "markdown",
   "metadata": {},
   "source": [
    "Now we will use a CountVectorizer to split up each message into its list of words, and throw that into a MultinomialNB classifier. Call fit() and we've got a trained spam filter ready to go! It's just that easy."
   ]
  },
  {
   "cell_type": "code",
   "execution_count": 3,
   "metadata": {
    "collapsed": false
   },
   "outputs": [
    {
     "data": {
      "text/plain": [
       "MultinomialNB(alpha=1.0, class_prior=None, fit_prior=True)"
      ]
     },
     "execution_count": 3,
     "metadata": {},
     "output_type": "execute_result"
    }
   ],
   "source": [
    "vectorizer = CountVectorizer()\n",
    "counts = vectorizer.fit_transform(data['message'].values)\n",
    "classifier = MultinomialNB()\n",
    "targets = data['class'].values\n",
    "classifier.fit(counts, targets)"
   ]
  },
  {
   "cell_type": "markdown",
   "metadata": {},
   "source": [
    "Let's try it out:"
   ]
  },
  {
   "cell_type": "code",
   "execution_count": 4,
   "metadata": {
    "collapsed": false
   },
   "outputs": [
    {
     "data": {
      "text/plain": [
       "array(['spam', 'ham'], \n",
       "      dtype='|S4')"
      ]
     },
     "execution_count": 4,
     "metadata": {},
     "output_type": "execute_result"
    }
   ],
   "source": [
    "examples = ['Free Viagra now!!!', \"Hi Bob, how about a game of golf tomorrow?\"]\n",
    "example_counts = vectorizer.transform(examples)\n",
    "predictions = classifier.predict(example_counts)\n",
    "predictions"
   ]
  },
  {
   "cell_type": "markdown",
   "metadata": {},
   "source": [
    "## Activity"
   ]
  },
  {
   "cell_type": "markdown",
   "metadata": {},
   "source": [
    "Our data set is small, so our spam classifier isn't actually very good. Try running some different test emails through it and see if you get the results you expect.\n",
    "\n",
    "If you really want to challenge yourself, try applying train/test to this spam classifier - see how well it can predict some subset of the ham and spam emails."
   ]
  },
  {
   "cell_type": "code",
   "execution_count": 5,
   "metadata": {
    "collapsed": false
   },
   "outputs": [],
   "source": [
    "train=data.sample(frac=0.8,random_state=200) # random_state: Seed for the random number generator\n",
    "test=data.drop(train.index)"
   ]
  },
  {
   "cell_type": "code",
   "execution_count": 6,
   "metadata": {
    "collapsed": false
   },
   "outputs": [
    {
     "name": "stdout",
     "output_type": "stream",
     "text": [
      "(2400, 54607)\n",
      "(600, 54607)\n",
      "Correct predictions is  581 \n",
      "Wrong predictions is  19\n",
      "Accuracy: 0.968333333333\n",
      "An easier way to compute accuracy: 0.968333333333\n",
      " the easiest way:0.968333333333\n"
     ]
    }
   ],
   "source": [
    "import numpy as np\n",
    "vectorizer = CountVectorizer()\n",
    "counts = vectorizer.fit_transform(train['message'].values) #train['message'].values create an array from the df\n",
    "# fit_trasform creates a sparse matrix of (doc,word) with # occurances to be used by the classifier\n",
    "print counts.shape # counts is a sparse matrix\n",
    "classifier = MultinomialNB()\n",
    "targets = train['class'].values\n",
    "classifier.fit(counts, targets)\n",
    "example_counts = vectorizer.transform(test['message'].values)\n",
    "print example_counts.shape\n",
    "predictions = classifier.predict(example_counts)\n",
    "targetY = test['class'].values\n",
    "correct = 0\n",
    "wrong = 0\n",
    "testY= np.array(test['class'])\n",
    "for i in range(len(predictions)): \n",
    "    if predictions[i] == testY[i]:\n",
    "        correct +=1\n",
    "    else:\n",
    "        wrong +=1\n",
    "\n",
    "print \"Correct predictions is \",correct, \"\\nWrong predictions is \",wrong\n",
    "print \"Accuracy:\", float(correct)/(correct+wrong) \n",
    "        \n",
    "print \"An easier way to compute accuracy:\", np.mean(predictions == targetY)  \n",
    "print \"The easiest way:{}\".format(classifier.score(example_counts,targetY))\n",
    "\n"
   ]
  },
  {
   "cell_type": "code",
   "execution_count": 35,
   "metadata": {
    "collapsed": false
   },
   "outputs": [
    {
     "data": {
      "text/plain": [
       "<600x54607 sparse matrix of type '<type 'numpy.int64'>'\n",
       "\twith 75227 stored elements in Compressed Sparse Row format>"
      ]
     },
     "execution_count": 35,
     "metadata": {},
     "output_type": "execute_result"
    }
   ],
   "source": [
    "example_counts"
   ]
  },
  {
   "cell_type": "code",
   "execution_count": 7,
   "metadata": {
    "collapsed": false
   },
   "outputs": [
    {
     "name": "stdout",
     "output_type": "stream",
     "text": [
      "  (0, 1)\t1\n",
      "  (0, 2)\t2\n",
      "  (1, 1)\t1\n",
      "  (1, 0)\t1\n",
      "  (1, 3)\t1\n",
      "shape of the matrix c (2, 4)\n",
      "Freqs:   (0, 2)\t0.942155624663\n",
      "  (0, 1)\t0.335175743328\n",
      "  (1, 3)\t0.631667201738\n",
      "  (1, 0)\t0.631667201738\n",
      "  (1, 1)\t0.449436416524\n"
     ]
    }
   ],
   "source": [
    "from sklearn.feature_extraction.text import TfidfTransformer\n",
    "vectorizer = CountVectorizer()\n",
    "c = vectorizer.fit_transform([\"hello milad milad\", \"hello aybike ulusan\"])\n",
    "print c\n",
    "print \"shape of the matrix c\",c.shape\n",
    "\n",
    "Freqs = TfidfTransformer().fit_transform(c)\n",
    "print \"Freqs:\"\n",
    "print  Freqs"
   ]
  },
  {
   "cell_type": "code",
   "execution_count": null,
   "metadata": {
    "collapsed": true
   },
   "outputs": [],
   "source": []
  }
 ],
 "metadata": {
  "kernelspec": {
   "display_name": "Python 2",
   "language": "python",
   "name": "python2"
  },
  "language_info": {
   "codemirror_mode": {
    "name": "ipython",
    "version": 2
   },
   "file_extension": ".py",
   "mimetype": "text/x-python",
   "name": "python",
   "nbconvert_exporter": "python",
   "pygments_lexer": "ipython2",
   "version": "2.7.11"
  }
 },
 "nbformat": 4,
 "nbformat_minor": 0
}
