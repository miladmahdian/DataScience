{
 "cells": [
  {
   "cell_type": "markdown",
   "metadata": {},
   "source": [
    "# Mean, Median, Mode, and introducing NumPy"
   ]
  },
  {
   "cell_type": "markdown",
   "metadata": {},
   "source": [
    "## Mean vs. Median"
   ]
  },
  {
   "cell_type": "markdown",
   "metadata": {},
   "source": [
    "Let's create some fake income data, centered around 27,000 with a normal distribution and standard deviation of 15,000, with 10,000 data points. (We'll discuss those terms more later, if you're not familiar with them.)\n",
    "\n",
    "Then, compute the mean (average) - it should be close to 27,000:"
   ]
  },
  {
   "cell_type": "code",
   "execution_count": 12,
   "metadata": {
    "collapsed": false
   },
   "outputs": [
    {
     "name": "stdout",
     "output_type": "stream",
     "text": [
      "27100.2151172\n",
      "float64\n"
     ]
    },
    {
     "data": {
      "text/plain": [
       "numpy.ndarray"
      ]
     },
     "execution_count": 12,
     "metadata": {},
     "output_type": "execute_result"
    }
   ],
   "source": [
    "import numpy as np\n",
    "\n",
    "incomes = np.random.normal(27000, 15000, 10000) #mean, std, numOfSamples \n",
    "print(np.mean(incomes))\n",
    "print(incomes.dtype)\n",
    "type(incomes)\n"
   ]
  },
  {
   "cell_type": "markdown",
   "metadata": {},
   "source": [
    "We can segment the income data into 50 buckets, and plot it as a histogram:"
   ]
  },
  {
   "cell_type": "code",
   "execution_count": 3,
   "metadata": {
    "collapsed": false
   },
   "outputs": [
    {
     "data": {
      "image/png": "[encoded data removed]",
      "text/plain": [
       "<matplotlib.figure.Figure at 0x106015890>"
      ]
     },
     "metadata": {},
     "output_type": "display_data"
    }
   ],
   "source": [
    "#%matplotlib inline\n",
    "import matplotlib.pyplot as plt\n",
    "plt.hist(incomes, 50)\n",
    "plt.show()"
   ]
  },
  {
   "cell_type": "markdown",
   "metadata": {},
   "source": [
    "Now compute the median - since we have a nice, even distribution it too should be close to 27,000:"
   ]
  },
  {
   "cell_type": "code",
   "execution_count": 3,
   "metadata": {
    "collapsed": false
   },
   "outputs": [
    {
     "data": {
      "text/plain": [
       "27159.985229669175"
      ]
     },
     "execution_count": 3,
     "metadata": {},
     "output_type": "execute_result"
    }
   ],
   "source": [
    "np.median(incomes)"
   ]
  },
  {
   "cell_type": "markdown",
   "metadata": {},
   "source": [
    "Now we'll add Donald Trump into the mix. Darn income inequality!"
   ]
  },
  {
   "cell_type": "code",
   "execution_count": 4,
   "metadata": {
    "collapsed": false
   },
   "outputs": [],
   "source": [
    "incomes = np.append(incomes, [1000000000])"
   ]
  },
  {
   "cell_type": "markdown",
   "metadata": {},
   "source": [
    "The median won't change much, but the mean does:"
   ]
  },
  {
   "cell_type": "code",
   "execution_count": 5,
   "metadata": {
    "collapsed": false
   },
   "outputs": [
    {
     "data": {
      "text/plain": [
       "27163.131505581998"
      ]
     },
     "execution_count": 5,
     "metadata": {},
     "output_type": "execute_result"
    }
   ],
   "source": [
    "np.median(incomes)"
   ]
  },
  {
   "cell_type": "code",
   "execution_count": 6,
   "metadata": {
    "collapsed": false
   },
   "outputs": [
    {
     "data": {
      "text/plain": [
       "127160.38252311043"
      ]
     },
     "execution_count": 6,
     "metadata": {},
     "output_type": "execute_result"
    }
   ],
   "source": [
    "np.mean(incomes)"
   ]
  },
  {
   "cell_type": "markdown",
   "metadata": {},
   "source": [
    "## Mode"
   ]
  },
  {
   "cell_type": "markdown",
   "metadata": {},
   "source": [
    "Next, let's generate some fake age data for 500 people:"
   ]
  },
  {
   "cell_type": "code",
   "execution_count": 4,
   "metadata": {
    "collapsed": false
   },
   "outputs": [
    {
     "data": {
      "text/plain": [
       "array([44, 56, 67, 81, 62, 72, 74, 70, 30, 58, 80, 40, 49, 79, 46, 63, 48,\n",
       "       24, 81, 74, 44, 44, 87, 83, 87, 46, 22, 28, 49, 84, 68, 55, 51, 31,\n",
       "       43, 43, 65, 80, 30, 51, 38, 70, 34, 28, 33, 55, 59, 75, 44, 48, 72,\n",
       "       46, 61, 71, 47, 68, 60, 43, 28, 45, 72, 83, 53, 77, 89, 83, 45, 51,\n",
       "       84, 88, 79, 50, 69, 69, 30, 77, 40, 77, 24, 85, 74, 35, 87, 58, 53,\n",
       "       67, 81, 69, 30, 18, 53, 38, 70, 51, 67, 27, 89, 22, 23, 41, 39, 32,\n",
       "       60, 80, 72, 31, 19, 43, 20, 45, 85, 82, 27, 50, 27, 23, 25, 78, 27,\n",
       "       62, 58, 49, 25, 32, 77, 51, 84, 70, 53, 23, 58, 57, 49, 66, 75, 75,\n",
       "       34, 42, 51, 48, 50, 25, 27, 25, 80, 24, 27, 69, 80, 31, 66, 51, 87,\n",
       "       35, 89, 64, 85, 83, 21, 59, 32, 33, 75, 28, 48, 70, 20, 86, 77, 76,\n",
       "       50, 84, 22, 60, 50, 43, 49, 37, 58, 64, 43, 61, 77, 64, 38, 86, 84,\n",
       "       47, 47, 46, 56, 88, 45, 58, 57, 63, 74, 83, 81, 39, 65, 37, 35, 60,\n",
       "       83, 48, 25, 28, 53, 73, 72, 45, 34, 34, 59, 60, 43, 48, 48, 87, 55,\n",
       "       47, 68, 53, 55, 34, 21, 76, 68, 39, 47, 49, 73, 46, 54, 19, 65, 26,\n",
       "       77, 85, 42, 67, 66, 48, 72, 20, 65, 83, 60, 37, 85, 73, 88, 65, 38,\n",
       "       26, 48, 46, 51, 31, 49, 35, 59, 44, 29, 65, 62, 85, 69, 75, 74, 52,\n",
       "       44, 46, 59, 27, 39, 62, 23, 39, 26, 85, 88, 55, 72, 36, 52, 86, 33,\n",
       "       85, 73, 63, 76, 47, 79, 58, 59, 84, 33, 32, 42, 22, 27, 53, 31, 40,\n",
       "       68, 20, 63, 82, 38, 46, 54, 59, 89, 73, 83, 21, 67, 47, 86, 47, 46,\n",
       "       33, 80, 80, 56, 52, 44, 45, 34, 27, 22, 31, 88, 83, 41, 74, 41, 84,\n",
       "       30, 89, 67, 60, 72, 40, 54, 61, 87, 44, 43, 35, 81, 38, 34, 80, 28,\n",
       "       81, 80, 44, 74, 31, 86, 56, 22, 30, 41, 30, 82, 79, 54, 33, 21, 30,\n",
       "       48, 45, 47, 23, 67, 57, 87, 34, 52, 53, 67, 46, 56, 58, 56, 49, 70,\n",
       "       82, 51, 43, 48, 77, 76, 85, 85, 60, 41, 35, 77, 25, 44, 67, 60, 58,\n",
       "       29, 81, 87, 47, 82, 73, 66, 48, 81, 69, 26, 44, 71, 30, 62, 51, 76,\n",
       "       23, 55, 23, 67, 47, 28, 41, 54, 33, 89, 24, 30, 37, 76, 86, 81, 44,\n",
       "       57, 39, 43, 72, 57, 68, 58, 64, 80, 21, 61, 28, 32, 20, 37, 21, 71,\n",
       "       71, 43, 65, 37, 61, 79, 24, 77, 56, 46, 42, 67, 29, 61, 18, 75, 28,\n",
       "       57, 25, 63, 81, 38, 71, 81, 36, 80, 50, 33, 43, 46, 67, 51, 75, 62,\n",
       "       69, 53, 48, 72, 75, 82, 64])"
      ]
     },
     "execution_count": 4,
     "metadata": {},
     "output_type": "execute_result"
    }
   ],
   "source": [
    "ages = np.random.randint(18, high=90, size=500) #low, high, sizeOfSamples\n",
    "ages\n"
   ]
  },
  {
   "cell_type": "code",
   "execution_count": 20,
   "metadata": {
    "collapsed": false
   },
   "outputs": [
    {
     "name": "stdout",
     "output_type": "stream",
     "text": [
      "ModeResult(mode=array([85]), count=array([13]))\n"
     ]
    }
   ],
   "source": [
    "from scipy import stats\n",
    "a =stats.mode(ages)\n",
    "print(a)"
   ]
  },
  {
   "cell_type": "code",
   "execution_count": 19,
   "metadata": {
    "collapsed": false
   },
   "outputs": [
    {
     "name": "stdout",
     "output_type": "stream",
     "text": [
      "[13]\n",
      "13\n"
     ]
    }
   ],
   "source": [
    "print a.count\n",
    "for i in a.count:\n",
    "    print i"
   ]
  },
  {
   "cell_type": "code",
   "execution_count": 14,
   "metadata": {
    "collapsed": false
   },
   "outputs": [
    {
     "name": "stdout",
     "output_type": "stream",
     "text": [
      "[85]\n"
     ]
    }
   ],
   "source": [
    "print a.mode"
   ]
  },
  {
   "cell_type": "code",
   "execution_count": null,
   "metadata": {
    "collapsed": true
   },
   "outputs": [],
   "source": []
  }
 ],
 "metadata": {
  "kernelspec": {
   "display_name": "Python 2",
   "language": "python",
   "name": "python2"
  },
  "language_info": {
   "codemirror_mode": {
    "name": "ipython",
    "version": 2
   },
   "file_extension": ".py",
   "mimetype": "text/x-python",
   "name": "python",
   "nbconvert_exporter": "python",
   "pygments_lexer": "ipython2",
   "version": "2.7.11"
  }
 },
 "nbformat": 4,
 "nbformat_minor": 0
}
